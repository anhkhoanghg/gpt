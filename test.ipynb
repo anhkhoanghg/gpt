{
 "cells": [
  {
   "cell_type": "code",
   "execution_count": 8,
   "metadata": {},
   "outputs": [
    {
     "name": "stdout",
     "output_type": "stream",
     "text": [
      "3\n"
     ]
    }
   ],
   "source": [
    "import random\n",
    "num_dow = random.randint(1, 7)\n",
    "print(num_dow)"
   ]
  },
  {
   "cell_type": "code",
   "execution_count": 9,
   "metadata": {},
   "outputs": [
    {
     "data": {
      "text/plain": [
       "[3, 2, 1]"
      ]
     },
     "execution_count": 9,
     "metadata": {},
     "output_type": "execute_result"
    }
   ],
   "source": [
    "a = []\n",
    "while num_dow>0:\n",
    "    a.append(num_dow)\n",
    "    num_dow -=1\n",
    "    \n",
    "a"
   ]
  },
  {
   "cell_type": "code",
   "execution_count": 10,
   "metadata": {},
   "outputs": [
    {
     "name": "stdout",
     "output_type": "stream",
     "text": [
      "18:00:00&7:00:00\n"
     ]
    }
   ],
   "source": [
    "daily = [\"18:00:00\", \"7:00:00\"]\n",
    "\n",
    "# Use the join() method to concatenate the elements with '&'\n",
    "timer = '&'.join(daily)\n",
    "\n",
    "print(timer)"
   ]
  },
  {
   "cell_type": "code",
   "execution_count": 4,
   "metadata": {},
   "outputs": [
    {
     "data": {
      "text/plain": [
       "['<prompt>',\n",
       " '</prompt>',\n",
       " '<task>',\n",
       " '</task>',\n",
       " '<sum>',\n",
       " '<cate>',\n",
       " '<prio>',\n",
       " '<diff>',\n",
       " '<imp>',\n",
       " '<freq>',\n",
       " '<exp_min>',\n",
       " '<totd>',\n",
       " '<spec_time>',\n",
       " '<dow>',\n",
       " '<day>',\n",
       " '<month>',\n",
       " '<no_date>',\n",
       " '<no_week>',\n",
       " '<no_month>',\n",
       " '<daily>',\n",
       " '<weekly>']"
      ]
     },
     "execution_count": 4,
     "metadata": {},
     "output_type": "execute_result"
    }
   ],
   "source": [
    "import json\n",
    "def loadTagToken(token_annotation_path):\n",
    "    listToken = []\n",
    "    with open(token_annotation_path, 'r', encoding=\"utf-8\") as file:\n",
    "        data = json.load(file)\n",
    "        level_2_tokens = data[\"level_2\"][\"token\"]\n",
    "        level_3_tokens = data[\"level_3\"][\"3.1\"][\"token\"]\n",
    "        for i in range(len(level_2_tokens)):\n",
    "            listToken.append(level_2_tokens[i][\"value\"])\n",
    "        for i in range(len(level_3_tokens)):\n",
    "            listToken.append(level_3_tokens[i][\"value\"])\n",
    "    \n",
    "    return listToken\n",
    "\n",
    "x= loadTagToken('./token_annotation.json')\n",
    "x"
   ]
  }
 ],
 "metadata": {
  "kernelspec": {
   "display_name": "capstone",
   "language": "python",
   "name": "python3"
  },
  "language_info": {
   "codemirror_mode": {
    "name": "ipython",
    "version": 3
   },
   "file_extension": ".py",
   "mimetype": "text/x-python",
   "name": "python",
   "nbconvert_exporter": "python",
   "pygments_lexer": "ipython3",
   "version": "3.10.13"
  }
 },
 "nbformat": 4,
 "nbformat_minor": 2
}
